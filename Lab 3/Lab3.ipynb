{
 "cells": [
  {
   "cell_type": "markdown",
   "metadata": {},
   "source": [
    "# 1.Business Understanding\n",
    "\n",
    "In this lab, our primary task is to compare the performance of logistic regression optimization implemented in scikit-learn with our own implementation. We will select a dataset which contains more than two classes to predict so as to qualify for a multi-class prediction task. Later, we will also modify the optimization procedure for logistic regression and pick the best out of them to battle against the equivalent scikit-learn implementation and find out the better one. \n",
    "\n",
    "We have chosen the **World University Ranking** dataset from Kaggle, which contains .csv formatted data of top universities from around the world. The data contains around **2600 rows** of details about each of the universities arranged in a ranked order.\n",
    "\n",
    "Each row contains information such as the universities name, rank, country, number of students, international student percentage, gender ratio, student to staff ratio and year in which the data was collected. The tabular data also contains an overall score for each university as well as separate scores for the teaching, research, citations, international outlook and industry income.\n",
    "\n",
    "Our classification task is the **Total score** (total_score) obtained by the various universities. As per our dataset, there are different score values, which act as classes of scores.\n",
    "\n",
    "The investigation through this task would be useful to the prospective students, current students, teachers, counselors and other people working in the higher education sector. The scores can be used by students to identify different sets of universities which have similar quality of education. Furthermore, the job recruiters from different industries can use the outcome of this task to shortlist their preferred universities for conducting recruitment drives.\n",
    "\n",
    "If our implementation is successful in classifying the universities based on their scores with better accuracy than the scikit-learn implementation, we can deploy this model for business use."
   ]
  },
  {
   "cell_type": "markdown",
   "metadata": {},
   "source": [
    "# 2.Preparation and Overview"
   ]
  },
  {
   "cell_type": "markdown",
   "metadata": {},
   "source": [
    "As usual, we will begin by loading the dataset from the .csv file."
   ]
  },
  {
   "cell_type": "code",
   "execution_count": 4,
   "metadata": {},
   "outputs": [
    {
     "data": {
      "text/html": [
       "<div>\n",
       "<style scoped>\n",
       "    .dataframe tbody tr th:only-of-type {\n",
       "        vertical-align: middle;\n",
       "    }\n",
       "\n",
       "    .dataframe tbody tr th {\n",
       "        vertical-align: top;\n",
       "    }\n",
       "\n",
       "    .dataframe thead th {\n",
       "        text-align: right;\n",
       "    }\n",
       "</style>\n",
       "<table border=\"1\" class=\"dataframe\">\n",
       "  <thead>\n",
       "    <tr style=\"text-align: right;\">\n",
       "      <th></th>\n",
       "      <th>world_rank</th>\n",
       "      <th>university_name</th>\n",
       "      <th>country</th>\n",
       "      <th>teaching</th>\n",
       "      <th>international</th>\n",
       "      <th>research</th>\n",
       "      <th>citations</th>\n",
       "      <th>income</th>\n",
       "      <th>total_score</th>\n",
       "      <th>num_students</th>\n",
       "      <th>student_staff_ratio</th>\n",
       "      <th>international_students</th>\n",
       "      <th>female_male_ratio</th>\n",
       "      <th>year</th>\n",
       "    </tr>\n",
       "  </thead>\n",
       "  <tbody>\n",
       "    <tr>\n",
       "      <th>0</th>\n",
       "      <td>1</td>\n",
       "      <td>Harvard University</td>\n",
       "      <td>United States of America</td>\n",
       "      <td>99.7</td>\n",
       "      <td>72.4</td>\n",
       "      <td>98.7</td>\n",
       "      <td>98.8</td>\n",
       "      <td>34.5</td>\n",
       "      <td>96.1</td>\n",
       "      <td>20,152</td>\n",
       "      <td>8.9</td>\n",
       "      <td>25.0</td>\n",
       "      <td>NaN</td>\n",
       "      <td>2011</td>\n",
       "    </tr>\n",
       "    <tr>\n",
       "      <th>1</th>\n",
       "      <td>2</td>\n",
       "      <td>California Institute of Technology</td>\n",
       "      <td>United States of America</td>\n",
       "      <td>97.7</td>\n",
       "      <td>54.6</td>\n",
       "      <td>98.0</td>\n",
       "      <td>99.9</td>\n",
       "      <td>83.7</td>\n",
       "      <td>96.0</td>\n",
       "      <td>2,243</td>\n",
       "      <td>6.9</td>\n",
       "      <td>27.0</td>\n",
       "      <td>33 : 67</td>\n",
       "      <td>2011</td>\n",
       "    </tr>\n",
       "    <tr>\n",
       "      <th>2</th>\n",
       "      <td>3</td>\n",
       "      <td>Massachusetts Institute of Technology</td>\n",
       "      <td>United States of America</td>\n",
       "      <td>97.8</td>\n",
       "      <td>82.3</td>\n",
       "      <td>91.4</td>\n",
       "      <td>99.9</td>\n",
       "      <td>87.5</td>\n",
       "      <td>95.6</td>\n",
       "      <td>11,074</td>\n",
       "      <td>9.0</td>\n",
       "      <td>33.0</td>\n",
       "      <td>37 : 63</td>\n",
       "      <td>2011</td>\n",
       "    </tr>\n",
       "    <tr>\n",
       "      <th>3</th>\n",
       "      <td>4</td>\n",
       "      <td>Stanford University</td>\n",
       "      <td>United States of America</td>\n",
       "      <td>98.3</td>\n",
       "      <td>29.5</td>\n",
       "      <td>98.1</td>\n",
       "      <td>99.2</td>\n",
       "      <td>64.3</td>\n",
       "      <td>94.3</td>\n",
       "      <td>15,596</td>\n",
       "      <td>7.8</td>\n",
       "      <td>22.0</td>\n",
       "      <td>42 : 58</td>\n",
       "      <td>2011</td>\n",
       "    </tr>\n",
       "    <tr>\n",
       "      <th>4</th>\n",
       "      <td>5</td>\n",
       "      <td>Princeton University</td>\n",
       "      <td>United States of America</td>\n",
       "      <td>90.9</td>\n",
       "      <td>70.3</td>\n",
       "      <td>95.4</td>\n",
       "      <td>99.9</td>\n",
       "      <td>0.0</td>\n",
       "      <td>94.2</td>\n",
       "      <td>7,929</td>\n",
       "      <td>8.4</td>\n",
       "      <td>27.0</td>\n",
       "      <td>45 : 55</td>\n",
       "      <td>2011</td>\n",
       "    </tr>\n",
       "  </tbody>\n",
       "</table>\n",
       "</div>"
      ],
      "text/plain": [
       "  world_rank                        university_name                   country  \\\n",
       "0          1                     Harvard University  United States of America   \n",
       "1          2     California Institute of Technology  United States of America   \n",
       "2          3  Massachusetts Institute of Technology  United States of America   \n",
       "3          4                    Stanford University  United States of America   \n",
       "4          5                   Princeton University  United States of America   \n",
       "\n",
       "   teaching  international  research  citations  income  total_score  \\\n",
       "0      99.7           72.4      98.7       98.8    34.5         96.1   \n",
       "1      97.7           54.6      98.0       99.9    83.7         96.0   \n",
       "2      97.8           82.3      91.4       99.9    87.5         95.6   \n",
       "3      98.3           29.5      98.1       99.2    64.3         94.3   \n",
       "4      90.9           70.3      95.4       99.9     0.0         94.2   \n",
       "\n",
       "  num_students  student_staff_ratio  international_students female_male_ratio  \\\n",
       "0       20,152                  8.9                    25.0               NaN   \n",
       "1        2,243                  6.9                    27.0           33 : 67   \n",
       "2       11,074                  9.0                    33.0           37 : 63   \n",
       "3       15,596                  7.8                    22.0           42 : 58   \n",
       "4        7,929                  8.4                    27.0           45 : 55   \n",
       "\n",
       "   year  \n",
       "0  2011  \n",
       "1  2011  \n",
       "2  2011  \n",
       "3  2011  \n",
       "4  2011  "
      ]
     },
     "execution_count": 4,
     "metadata": {},
     "output_type": "execute_result"
    }
   ],
   "source": [
    "import pandas as pd\n",
    "import numpy as np\n",
    "import warnings\n",
    "warnings.filterwarnings(\"ignore\")\n",
    "\n",
    "df = pd.read_csv('dataset/timesData.csv')\n",
    "\n",
    "df.head()"
   ]
  },
  {
   "cell_type": "markdown",
   "metadata": {},
   "source": [
    "We will look at the column information of our dataset."
   ]
  },
  {
   "cell_type": "code",
   "execution_count": 5,
   "metadata": {},
   "outputs": [
    {
     "name": "stdout",
     "output_type": "stream",
     "text": [
      "<class 'pandas.core.frame.DataFrame'>\n",
      "RangeIndex: 2603 entries, 0 to 2602\n",
      "Data columns (total 14 columns):\n",
      "world_rank                2603 non-null object\n",
      "university_name           2603 non-null object\n",
      "country                   2603 non-null object\n",
      "teaching                  2603 non-null float64\n",
      "international             2603 non-null float64\n",
      "research                  2603 non-null float64\n",
      "citations                 2603 non-null float64\n",
      "income                    2603 non-null float64\n",
      "total_score               2603 non-null float64\n",
      "num_students              2544 non-null object\n",
      "student_staff_ratio       2544 non-null float64\n",
      "international_students    2536 non-null float64\n",
      "female_male_ratio         2370 non-null object\n",
      "year                      2603 non-null int64\n",
      "dtypes: float64(8), int64(1), object(5)\n",
      "memory usage: 284.8+ KB\n"
     ]
    }
   ],
   "source": [
    "df.info()"
   ]
  },
  {
   "cell_type": "markdown",
   "metadata": {},
   "source": [
    "Find the missing values in the data."
   ]
  },
  {
   "cell_type": "code",
   "execution_count": 6,
   "metadata": {
    "scrolled": false
   },
   "outputs": [
    {
     "data": {
      "image/png": "[encoded data removed]",
      "text/plain": [
       "<matplotlib.figure.Figure at 0x29ad4e0>"
      ]
     },
     "metadata": {},
     "output_type": "display_data"
    }
   ],
   "source": [
    "import missingno as mn\n",
    "mn.matrix(df)"
   ]
  },
  {
   "cell_type": "code",
   "execution_count": 7,
   "metadata": {
    "scrolled": true
   },
   "outputs": [
    {
     "data": {
      "text/plain": [
       "world_rank                False\n",
       "university_name           False\n",
       "country                   False\n",
       "teaching                  False\n",
       "international             False\n",
       "research                  False\n",
       "citations                 False\n",
       "income                    False\n",
       "total_score               False\n",
       "num_students               True\n",
       "student_staff_ratio        True\n",
       "international_students     True\n",
       "female_male_ratio          True\n",
       "year                      False\n",
       "dtype: bool"
      ]
     },
     "execution_count": 7,
     "metadata": {},
     "output_type": "execute_result"
    }
   ],
   "source": [
    "df.isnull().any()"
   ]
  },
  {
   "cell_type": "markdown",
   "metadata": {},
   "source": [
    "Next, we will preprocess the data. To do this, we are filling the missing values with zeroes and converting the percentage values into float type. This is all that we require to do for preprocessing this data."
   ]
  },
  {
   "cell_type": "code",
   "execution_count": 15,
   "metadata": {
    "scrolled": false
   },
   "outputs": [
    {
     "data": {
      "image/png": "[encoded data removed]",
      "text/plain": [
       "<matplotlib.figure.Figure at 0xb7a1c50>"
      ]
     },
     "metadata": {},
     "output_type": "display_data"
    }
   ],
   "source": [
    "df['num_students'] = df['num_students'].fillna(value=0)\n",
    "# df['international_students'] = df['international_students'].str.replace(\"%\",\"\").astype(float)\n",
    "df['international_students'] = df['international_students'].fillna(value=0)\n",
    "df['international_students'] = df['international_students']/100\n",
    "df['student_staff_ratio'] = df['student_staff_ratio'].fillna(value=0)\n",
    "df['female_male_ratio'] = df['student_staff_ratio'].fillna(value=0)\n",
    "df['num_students'] = df['num_students'].str.replace(\",\",\"\")\n",
    "df['num_students'] = df['num_students'].astype(float)\n",
    "\n",
    "to_replace = ['student_staff_ratio', 'num_students', 'international_students']\n",
    "\n",
    "\n",
    "for i in to_replace:\n",
    "    df[i] = df[i].replace(np.NaN, 0)\n",
    "mn.matrix(df)"
   ]
  },
  {
   "cell_type": "markdown",
   "metadata": {},
   "source": [
    "Here we are converting the column values from string to numeric using LabelEncoder.\n",
    "\n",
    "Reference: http://scikit-learn.org/stable/modules/generated/sklearn.preprocessing.LabelEncoder.html"
   ]
  },
  {
   "cell_type": "code",
   "execution_count": 16,
   "metadata": {
    "collapsed": true
   },
   "outputs": [],
   "source": [
    "from sklearn.preprocessing import LabelEncoder\n",
    "lb_make = LabelEncoder()\n",
    "\n",
    "labels = ['country']\n",
    "for label in labels:\n",
    "    df[label+'_code'] = lb_make.fit_transform(df[label])"
   ]
  },
  {
   "cell_type": "markdown",
   "metadata": {},
   "source": [
    "Eliminating the columns which are not required, as these columns does not influence our outcome.\n",
    "Also, we will be removing the target column from our data."
   ]
  },
  {
   "cell_type": "code",
   "execution_count": 17,
   "metadata": {
    "collapsed": true
   },
   "outputs": [],
   "source": [
    "cols = list(df.columns)\n",
    "cols.remove('total_score') #target column\n",
    "cols.remove('world_rank')\n",
    "cols.remove('university_name')\n",
    "cols.remove('country')\n",
    "\n",
    "\n",
    "X = df[cols]\n",
    "X = np.array(X)\n",
    "\n",
    "y = df['total_score']\n",
    "y = np.array(y)\n",
    "y = y.astype(int)"
   ]
  },
  {
   "cell_type": "code",
   "execution_count": 18,
   "metadata": {
    "collapsed": true
   },
   "outputs": [],
   "source": [
    "from sklearn.model_selection import train_test_split\n",
    "from sklearn import svm\n",
    "from sklearn import metrics as mt\n",
    "from sklearn.metrics import accuracy_score\n",
    "from scipy.special import expit"
   ]
  },
  {
   "cell_type": "markdown",
   "metadata": {},
   "source": [
    "Now, we will split the data as 80% training and 20% testing and check the accuracy of the prediction using Support Vector Machines (SVM). This is done to understand the relevance of the data split."
   ]
  },
  {
   "cell_type": "code",
   "execution_count": 23,
   "metadata": {},
   "outputs": [
    {
     "name": "stdout",
     "output_type": "stream",
     "text": [
      "\n",
      "====Iteration 0  ====\n",
      "accuracy: 54.7579298831 % with kernel = sigmoid\n",
      "accuracy: 54.0901502504 % with kernel = rbf\n",
      "\n",
      "====Iteration 1  ====\n",
      "accuracy: 52.2537562604 % with kernel = sigmoid\n",
      "accuracy: 56.5943238731 % with kernel = rbf\n",
      "\n",
      "====Iteration 2  ====\n",
      "accuracy: 52.754590985 % with kernel = sigmoid\n",
      "accuracy: 53.5893155259 % with kernel = rbf\n",
      "\n",
      "====Iteration 3  ====\n",
      "accuracy: 54.0901502504 % with kernel = sigmoid\n",
      "accuracy: 56.7612687813 % with kernel = rbf\n",
      "\n",
      "====Iteration 4  ====\n",
      "accuracy: 53.0884808013 % with kernel = sigmoid\n",
      "accuracy: 56.9282136895 % with kernel = rbf\n"
     ]
    }
   ],
   "source": [
    "for i in range(5):\n",
    "    print(\"\\n====Iteration\",i,\" ====\")\n",
    "    for kernel in ['sigmoid', 'rbf']:\n",
    "        X_train, X_test, y_train, y_test = train_test_split(X, y, test_size=0.23)\n",
    "        y_hat = svm.SVC(kernel=kernel, gamma=0.015).fit(X_train,y_train).predict(X_test) # get test set precitions\n",
    "        acc = mt.accuracy_score(y_test,y_hat)\n",
    "        print(\"accuracy:\", acc*100, \"%\", \"with kernel =\", kernel)\n",
    "    "
   ]
  },
  {
   "cell_type": "code",
   "execution_count": 24,
   "metadata": {
    "collapsed": true,
    "scrolled": false
   },
   "outputs": [],
   "source": [
    "class BinaryLogisticRegression:\n",
    "    def __init__(self, eta, iterations=20, C=0.001, norm=''):\n",
    "        self.eta = eta\n",
    "        self.iters = iterations\n",
    "        self.C = C\n",
    "        self.norm = norm\n",
    "        \n",
    "    def __str__(self):\n",
    "        if(hasattr(self,'w_')):\n",
    "            return 'Binary Logistic Regression Object with coefficients:\\n'+ str(self.w_) #this means we have trained the object\n",
    "        else:\n",
    "            return 'Untrained Binary Logistic Regression Object'\n",
    "        \n",
    "    @staticmethod\n",
    "    def _add_bias(X):\n",
    "        return np.hstack((np.ones((X.shape[0],1)),X)) # add bias term\n",
    "    \n",
    "    @staticmethod\n",
    "    def _sigmoid(theta):\n",
    "        return expit(theta) #1/(1+np.exp(-theta))\n",
    "    \n",
    "    # vectorized gradient calculation\n",
    "    def _get_gradient(self,X,y):\n",
    "        ydiff = y-self.predict_proba(X,add_bias=False).ravel() # get y difference\n",
    "        gradient = np.mean(X * ydiff[:,np.newaxis], axis=0) # make ydiff a column vector and multiply through\n",
    "        gradient = gradient.reshape(self.w_.shape)\n",
    "        return gradient\n",
    "    \n",
    "    # public:\n",
    "    def predict_proba(self,X,add_bias=True):\n",
    "        # add bias term if requested\n",
    "        Xb = self._add_bias(X) if add_bias else X\n",
    "        return self._sigmoid(Xb @ self.w_) # return the probability y=1\n",
    "    \n",
    "    def predict(self,X):\n",
    "        return (self.predict_proba(X)>0.5) #return the actual prediction\n",
    "    \n",
    "    \n",
    "    def fit(self, X, y):\n",
    "        Xb = self._add_bias(X) # add bias term\n",
    "        num_samples, num_features = Xb.shape\n",
    "        \n",
    "        self.w_ = np.zeros((num_features,1)) # init weight vector to zeros\n",
    "        \n",
    "        # for as many as the max iterations\n",
    "        for _ in range(self.iters):\n",
    "            gradient = self._get_gradient(Xb,y)\n",
    "            self.w_ += gradient*self.eta # multiply by learning rate \n"
   ]
  },
  {
   "cell_type": "code",
   "execution_count": 25,
   "metadata": {
    "collapsed": true
   },
   "outputs": [],
   "source": [
    "class SteepestLogisticRegression(BinaryLogisticRegression):\n",
    "    \n",
    "    def _get_gradient(self, X, y):\n",
    "        gradient = 0\n",
    "        for i, j in zip(X, y):\n",
    "            ydiff = j - self.predict_proba(i, add_bias=False)\n",
    "            gradient += i * ydiff[:,np.newaxis]\n",
    "        \n",
    "        gradient = gradient.reshape(self.w_.shape)\n",
    "        \n",
    "        if self.norm.lower() == 'l1':\n",
    "            gradient[1:] += np.abs(self.w_[1:])/self.w_[1:] * self.C\n",
    "        elif self.norm.lower() == 'l2':\n",
    "            gradient[1:] += -2 * self.w_[1:] * self.C\n",
    "        elif self.norm.lower() == 'both':\n",
    "            gradient[1:] += (np.abs(self.w_[1:])/self.w_[1:] * self.C) + (-2 * self.w_[1:] * self.C)\n",
    "        \n",
    "        return gradient"
   ]
  },
  {
   "cell_type": "code",
   "execution_count": 26,
   "metadata": {
    "collapsed": true
   },
   "outputs": [],
   "source": [
    "class StochasticLogisticRegression(BinaryLogisticRegression):\n",
    "    # stochastic gradient calculation \n",
    "    def _get_gradient(self,X,y):\n",
    "        idx = int(np.random.rand()*len(y)) # grab random instance\n",
    "        ydiff = y[idx]-self.predict_proba(X[idx],add_bias=False) # get y difference (now scalar)\n",
    "        gradient = X[idx] * ydiff[:,np.newaxis] # make ydiff a column vector and multiply through\n",
    "        \n",
    "        gradient = gradient.reshape(self.w_.shape)\n",
    "        \n",
    "        if self.norm.lower() == 'l1':\n",
    "            gradient[1:] += np.abs(self.w_[1:])/self.w_[1:] * self.C\n",
    "        elif self.norm.lower() == 'l2':\n",
    "            gradient[1:] += -2 * self.w_[1:] * self.C\n",
    "        elif self.norm.lower() == 'both':\n",
    "            gradient[1:] += (np.abs(self.w_[1:])/self.w_[1:] * self.C) + (-2 * self.w_[1:] * self.C)\n",
    "        \n",
    "        return gradient"
   ]
  },
  {
   "cell_type": "code",
   "execution_count": 27,
   "metadata": {
    "collapsed": true
   },
   "outputs": [],
   "source": [
    "from scipy.optimize import fmin_bfgs\n",
    "class BFGSMulticlassLogisticRegression(BinaryLogisticRegression):\n",
    "    \n",
    "    @staticmethod\n",
    "    def objective_function(w,X,y,C):\n",
    "        g = expit(X @ w)\n",
    "        return -np.sum(np.log(g[y==1]))-np.sum(np.log(1-g[y==0])) + C*sum(w**2) #-np.sum(y*np.log(g)+(1-y)*np.log(1-g))\n",
    "\n",
    "    def objective_gradient(self,w,X,y,C):\n",
    "        g = expit(X @ w)\n",
    "        ydiff = y-g # get y difference\n",
    "        gradient = np.mean(X * ydiff[:,np.newaxis], axis=0)\n",
    "        gradient = gradient.reshape(w.shape)\n",
    "#         gradient[1:] += -2 * w[1:] * C\n",
    "        if self.norm.lower() == 'l1':\n",
    "            gradient[1:] += np.abs(w[1:])/w[1:] * C\n",
    "        elif self.norm.lower() == 'l2':\n",
    "            gradient[1:] += -2 * w[1:] * C\n",
    "        elif self.norm.lower() == 'both':\n",
    "            gradient[1:] += (np.abs(w[1:])/w[1:] * C) + (-2 * w[1:] * C)\n",
    "        return -gradient\n",
    "    \n",
    "    # just overwrite fit function\n",
    "    def fit(self, X, y):\n",
    "        Xb = self._add_bias(X) # add bias term\n",
    "        num_samples, num_features = Xb.shape\n",
    "        \n",
    "        self.w_ = fmin_bfgs(self.objective_function, # what to optimize\n",
    "                            np.zeros((num_features,1)), # starting point\n",
    "                            fprime=self.objective_gradient, # gradient function\n",
    "                            args=(Xb,y,self.C), # extra args for gradient and objective function\n",
    "                            gtol=1e-03, # stopping criteria for gradient, |v_k|\n",
    "                            maxiter=self.iters, # stopping criteria iterations\n",
    "                            disp=False)\n",
    "        \n",
    "        self.w_ = self.w_.reshape((num_features,1))"
   ]
  },
  {
   "cell_type": "code",
   "execution_count": 28,
   "metadata": {
    "collapsed": true
   },
   "outputs": [],
   "source": [
    "class MultiClassLogisticRegression:\n",
    "    def __init__(self, eta, iterations=20, C=0.0001,  optimized_tech='binary', norm='L2'):\n",
    "        self.eta = eta\n",
    "        self.iters = iterations\n",
    "        self.C = C\n",
    "        self.classifiers_ = []\n",
    "        self.optimized_tech = optimized_tech\n",
    "        self.norm = norm\n",
    "        # internally we will store the weights as self.w_ to keep with sklearn conventions\n",
    "    \n",
    "    def __str__(self):\n",
    "        if(hasattr(self,'w_')):\n",
    "            return 'MultiClass Logistic Regression Object with coefficients:\\n'+ str(self.w_) # is we have trained the object\n",
    "        else:\n",
    "            return 'Untrained MultiClass Logistic Regression Object'\n",
    "        \n",
    "    def fit(self,X,y):\n",
    "        num_samples, num_features = X.shape\n",
    "        self.unique_ = np.sort(np.unique(y)) # get each unique class value\n",
    "\n",
    "        num_unique_classes = len(self.unique_)\n",
    "        self.classifiers_ = []\n",
    "        for i,yval in enumerate(self.unique_): # for each unique value\n",
    "            y_binary = y==yval # create a binary problem\n",
    "            \n",
    "            # train the binary classifier for this class\n",
    "            blr = None\n",
    "            if(self.optimized_tech.lower() == 'steepest'):\n",
    "                blr = SteepestLogisticRegression(self.eta,self.iters,self.C,self.norm)\n",
    "            elif(self.optimized_tech.lower() == 'stochastic'):\n",
    "                blr = StochasticLogisticRegression(self.eta,self.iters,self.C,self.norm)\n",
    "            elif(self.optimized_tech.lower() == 'bfgs'):\n",
    "                blr = BFGSMulticlassLogisticRegression(self.eta,self.iters,self.C,self.norm)\n",
    "            elif(self.optimized_tech.lower() == 'binary'):\n",
    "                blr = BinaryLogisticRegression(self.eta,self.iters,self.C,self.norm)\n",
    "            elif(self.optimized_tech.lower() == 'mse'):\n",
    "                blr = MSELogisticRegression(self.eta,self.iters,self.C,self.norm)\n",
    "            blr.fit(X,y_binary)\n",
    "\n",
    "            # add the trained classifier to the list\n",
    "            self.classifiers_.append(blr)\n",
    "            \n",
    "        # save all the weights into one matrix, separate column for each class\n",
    "        self.w_ = np.hstack([x.w_ for x in self.classifiers_]).T\n",
    "        \n",
    "    def predict_proba(self,X):\n",
    "        probs = []\n",
    "        for blr in self.classifiers_:\n",
    "            probs.append(blr.predict_proba(X).reshape((len(X),1))) # get probability for each classifier\n",
    "        \n",
    "        return np.hstack(probs) # make into single matrix\n",
    "    \n",
    "    def predict(self,X):\n",
    "        return np.argmax(self.predict_proba(X),axis=1) # take argmax along row"
   ]
  },
  {
   "cell_type": "code",
   "execution_count": 29,
   "metadata": {
    "scrolled": false
   },
   "outputs": [
    {
     "name": "stdout",
     "output_type": "stream",
     "text": [
      "\n",
      "====Iteration 0  ====\n",
      "Accuracy of:  55.0863723608\n",
      "\n",
      "====Iteration 1  ====\n",
      "Accuracy of:  5.95009596929\n",
      "\n",
      "====Iteration 2  ====\n",
      "Accuracy of:  0.0\n",
      "\n",
      "====Iteration 3  ====\n",
      "Accuracy of:  0.767754318618\n",
      "\n",
      "====Iteration 4  ====\n",
      "Accuracy of:  58.9251439539\n",
      "Wall time: 2min 9s\n"
     ]
    }
   ],
   "source": [
    "%%time\n",
    "mlr = MultiClassLogisticRegression(eta=0.01,iterations=1000,C=0.001)\n",
    "\n",
    "for i in range(5): \n",
    "    X_train, X_test, y_train, y_test = train_test_split(X, y, test_size=0.2)\n",
    "    print(\"\\n====Iteration\",i,\" ====\")\n",
    "    \n",
    "    mlr.fit(X_train,y_train)\n",
    "\n",
    "    yhat = mlr.predict(X_test)\n",
    "    print('Accuracy of: ',accuracy_score(y_test,yhat)*100)"
   ]
  },
  {
   "cell_type": "code",
   "execution_count": 31,
   "metadata": {},
   "outputs": [
    {
     "name": "stdout",
     "output_type": "stream",
     "text": [
      "\n",
      "Optimization: steepest\n",
      "C= 0.001 gives an accuracy of:  1.34357005758 %\n",
      "C= 0.01 gives an accuracy of:  52.9750479846 %\n",
      "C= 0.1 gives an accuracy of:  52.207293666 %\n",
      "C= 1 gives an accuracy of:  50.8637236084 %\n",
      "C= 10 gives an accuracy of:  53.5508637236 %\n",
      "\n",
      "Optimization: stochastic\n",
      "C= 0.001 gives an accuracy of:  51.2476007678 %\n",
      "C= 0.01 gives an accuracy of:  51.6314779271 %\n",
      "C= 0.1 gives an accuracy of:  54.8944337812 %\n",
      "C= 1 gives an accuracy of:  0.959692898273 %\n",
      "C= 10 gives an accuracy of:  0.0 %\n",
      "\n",
      "Optimization: bfgs\n",
      "C= 0.001 gives an accuracy of:  52.207293666 %\n",
      "C= 0.01 gives an accuracy of:  55.4702495202 %\n",
      "C= 0.1 gives an accuracy of:  48.9443378119 %\n",
      "C= 1 gives an accuracy of:  51.6314779271 %\n",
      "C= 10 gives an accuracy of:  53.5508637236 %\n"
     ]
    }
   ],
   "source": [
    "opt = ['steepest', 'stochastic', 'bfgs']\n",
    "iteration = [100, 500, 10]\n",
    "C_val = [0.001, 0.01, 0.1, 1, 10]\n",
    "\n",
    "acc_set = []\n",
    "for o,i in zip(opt, iteration):\n",
    "    print(\"\\nOptimization:\", o)\n",
    "    accuracy = []\n",
    "    \n",
    "    for j in C_val:\n",
    "        mlr = MultiClassLogisticRegression(eta=0.01,iterations=i,C=j,optimized_tech=o,norm='l2')\n",
    "        \n",
    "        X_train, X_test, y_train, y_test = train_test_split(X, y, test_size=0.2)    \n",
    "        mlr.fit(X_train,y_train)\n",
    "        yhat = mlr.predict(X_test)\n",
    "        acc = accuracy_score(y_test,yhat) * 100\n",
    "        print('C=', j, 'gives an accuracy of: ', acc, '%')\n",
    "        accuracy.append(acc)\n",
    "    acc_set.append(accuracy)"
   ]
  },
  {
   "cell_type": "code",
   "execution_count": 32,
   "metadata": {},
   "outputs": [
    {
     "data": {
      "image/png": "[encoded data removed]",
      "text/plain": [
       "<matplotlib.figure.Figure at 0x2997780>"
      ]
     },
     "metadata": {},
     "output_type": "display_data"
    }
   ],
   "source": [
    "%matplotlib inline\n",
    "from matplotlib import pyplot as plt\n",
    "\n",
    "plt.figure(figsize=(15, 4))\n",
    "plt.subplots_adjust(bottom=0, left=.01, right=.99, top=.90, hspace=.35)\n",
    "\n",
    "for i in range(len(opt)):\n",
    "    plt.subplot(1, 3, i+1)\n",
    "    y_pos = np.arange(len(acc_set[i]))\n",
    "    plt.bar(y_pos, acc_set[i])\n",
    "    plt.xticks(y_pos, C_val)\n",
    "    plt.xlabel('Cost')\n",
    "    plt.ylabel('% Accuracy')\n",
    "    plt.title(opt[i])\n",
    "plt.show()"
   ]
  },
  {
   "cell_type": "code",
   "execution_count": null,
   "metadata": {
    "collapsed": true
   },
   "outputs": [],
   "source": [
    "%%time\n",
    "from sklearn.linear_model import LogisticRegression\n",
    "\n",
    "lg = LogisticRegression(solver='lbfgs')\n",
    "\n",
    "X_train, X_test, y_train, y_test = train_test_split(X, y, test_size=0.2)\n",
    "lg.fit(X_train, y_train)\n",
    "\n",
    "yhat = lg.predict(X_test)\n",
    "sk_acc = accuracy_score(y_test,yhat) * 100\n",
    "print('Accuracy of: ',sk_acc, '%')"
   ]
  },
  {
   "cell_type": "code",
   "execution_count": null,
   "metadata": {
    "collapsed": true
   },
   "outputs": [],
   "source": [
    "%%time\n",
    "mlr = MultiClassLogisticRegression(eta=0.01,iterations=5,C=0.01,optimized_tech='bfgs',norm='l2')\n",
    "        \n",
    "X_train, X_test, y_train, y_test = train_test_split(X, y, test_size=0.2)    \n",
    "mlr.fit(X_train,y_train)\n",
    "yhat = mlr.predict(X_test)\n",
    "acc = accuracy_score(y_test,yhat) * 100\n",
    "print('BFGS gives an accuracy of: ', acc, '%')"
   ]
  },
  {
   "cell_type": "code",
   "execution_count": null,
   "metadata": {
    "collapsed": true
   },
   "outputs": [],
   "source": [
    "#Training time - Classification performance\n",
    "#Reference: Matplotlib - Group bar charts with units (https://matplotlib.org/gallery/units/bar_unit_demo.html)\n",
    "\n",
    "lr_technique = ['Scikit-learn', 'Custom classifier']\n",
    "accuracy = [sk_acc, acc]\n",
    "train_time = [2.94, 1.05]\n",
    "\n",
    "N = 2\n",
    "fig, ax = plt.subplots()\n",
    "\n",
    "ind = np.arange(N)    # the x locations for the groups\n",
    "width = 0.35         # the width of the bars\n",
    "\n",
    "p1 = ax.bar(ind, accuracy, width, color='blue', bottom=0)\n",
    "p2 = ax.bar(ind + width, train_time, width, color='orange', bottom=0)\n",
    "\n",
    "ax.set_title('Performance comparison')\n",
    "ax.set_xticks(ind + width / 2)\n",
    "ax.set_xticklabels(lr_technique)\n",
    "\n",
    "ax.legend((p1[0], p2[0]), ('% Accuracy', 'Training time'))\n",
    "ax.autoscale_view()\n",
    "\n",
    "plt.show()"
   ]
  },
  {
   "cell_type": "code",
   "execution_count": null,
   "metadata": {
    "collapsed": true
   },
   "outputs": [],
   "source": [
    "# Reference: Notes on MSE Gradients for Neural Networks by David Meyer (http://www.1-4-5.net/~dmm/ml/mse.pdf)\n",
    "class MSELogisticRegression(BinaryLogisticRegression):\n",
    "    \n",
    "    def objective_function(self,X,y,g):\n",
    "        return np.sum(g[y==1])*np.sum(1-g[y==0])\n",
    "\n",
    "    def _get_gradient(self, X, y):\n",
    "        self.w_ = np.squeeze(self.w_, axis = 1)\n",
    "        g = expit(X @ self.w_)\n",
    "        ydiff = y-g # get y difference\n",
    "        gradient = np.mean(X * ydiff[:,np.newaxis] * self.objective_function(X, y, g), axis=0) * -2\n",
    "        gradient = gradient.reshape(self.w_.shape)\n",
    "        if self.norm.lower() == 'l1':\n",
    "            gradient[1:] += np.abs(self.w_[1:])/self.w_[1:] * self.C\n",
    "        elif self.norm.lower() == 'l2':\n",
    "            gradient[1:] += -2 * self.w_[1:] * self.C\n",
    "        elif self.norm.lower() == 'both':\n",
    "            gradient[1:] += (np.abs(self.w_[1:])/self.w_[1:] * self.C) + (-2 * self.w_[1:] * self.C)\n",
    "    \n",
    "        return -gradient\n",
    "    "
   ]
  },
  {
   "cell_type": "code",
   "execution_count": null,
   "metadata": {
    "collapsed": true
   },
   "outputs": [],
   "source": [
    "%%time\n",
    "mlr = MultiClassLogisticRegression(eta=0.1,iterations=1,C=0.01,optimized_tech='mse',norm='l2')\n",
    "        \n",
    "X_train, X_test, y_train, y_test = train_test_split(X, y, test_size=0.2)    \n",
    "mlr.fit(X_train,y_train)\n",
    "yhat = mlr.predict(X_test)\n",
    "acc = accuracy_score(y_test,yhat) * 100\n",
    "print('accuracy of: %.2f' %acc, '%')"
   ]
  }
 ],
 "metadata": {
  "kernelspec": {
   "display_name": "Python 3",
   "language": "python",
   "name": "python3"
  },
  "language_info": {
   "codemirror_mode": {
    "name": "ipython",
    "version": 3
   },
   "file_extension": ".py",
   "mimetype": "text/x-python",
   "name": "python",
   "nbconvert_exporter": "python",
   "pygments_lexer": "ipython3",
   "version": "3.6.5"
  }
 },
 "nbformat": 4,
 "nbformat_minor": 2
}
